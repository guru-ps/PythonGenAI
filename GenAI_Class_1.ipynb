{
  "nbformat": 4,
  "nbformat_minor": 0,
  "metadata": {
    "colab": {
      "provenance": [],
      "authorship_tag": "ABX9TyNZxYgNJviF19XsUggEPSCj",
      "include_colab_link": true
    },
    "kernelspec": {
      "name": "python3",
      "display_name": "Python 3"
    },
    "language_info": {
      "name": "python"
    }
  },
  "cells": [
    {
      "cell_type": "markdown",
      "metadata": {
        "id": "view-in-github",
        "colab_type": "text"
      },
      "source": [
        "<a href=\"https://colab.research.google.com/github/guru-ps/PythonGenAI/blob/main/GenAI_Class_1.ipynb\" target=\"_parent\"><img src=\"https://colab.research.google.com/assets/colab-badge.svg\" alt=\"Open In Colab\"/></a>"
      ]
    },
    {
      "cell_type": "code",
      "execution_count": null,
      "metadata": {
        "colab": {
          "base_uri": "https://localhost:8080/"
        },
        "id": "IDXz_kCaxR9g",
        "outputId": "099665e8-0c05-4602-eee7-e29e37efc8b4"
      },
      "outputs": [
        {
          "output_type": "stream",
          "name": "stdout",
          "text": [
            "Welcome to Python\n",
            "3\n",
            "24\n",
            "10 String\n",
            "Number 1\tThe Larch\n",
            "Number 2\tThe Horse Chestnut\n",
            "I am new to Python\n",
            "2\n",
            "Enter your name: Guru\n",
            "Guru\n",
            "My name is Lakshita\n",
            "My name is Nitin\n"
          ]
        }
      ],
      "source": [
        "print('Welcome to Python')\n",
        "print(1+2)\n",
        "a= 10\n",
        "b=14\n",
        "print(a+b)\n",
        "print(\"10\"+ ' '+\"String\")\n",
        "\n",
        "print(\"Number 1\\tThe Larch\")\n",
        "print(\"Number 2\\tThe Horse Chestnut\")\n",
        "\n",
        "print(\"\"\"I am new to Python\"\"\")\n",
        "print(4//2)\n",
        "\n",
        "name = input(\"Enter your name: \")\n",
        "print(name)\n",
        "\n",
        "print(\"My name is Lakshita\")\n",
        "print(\"My name is Nitin\")"
      ]
    }
  ]
}