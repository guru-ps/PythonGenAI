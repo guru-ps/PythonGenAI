{
  "nbformat": 4,
  "nbformat_minor": 0,
  "metadata": {
    "colab": {
      "provenance": [],
      "authorship_tag": "ABX9TyNwjdualel+jAY8U00baBQZ",
      "include_colab_link": true
    },
    "kernelspec": {
      "name": "python3",
      "display_name": "Python 3"
    },
    "language_info": {
      "name": "python"
    }
  },
  "cells": [
    {
      "cell_type": "markdown",
      "metadata": {
        "id": "view-in-github",
        "colab_type": "text"
      },
      "source": [
        "<a href=\"https://colab.research.google.com/github/guru-ps/PythonGenAI/blob/main/GenAI_Class_1.ipynb\" target=\"_parent\"><img src=\"https://colab.research.google.com/assets/colab-badge.svg\" alt=\"Open In Colab\"/></a>"
      ]
    },
    {
      "cell_type": "code",
      "execution_count": 3,
      "metadata": {
        "colab": {
          "base_uri": "https://localhost:8080/"
        },
        "id": "IDXz_kCaxR9g",
        "outputId": "87d1a192-0a17-4255-94cb-91a948d208b5"
      },
      "outputs": [
        {
          "output_type": "stream",
          "name": "stdout",
          "text": [
            "Welcome to Python\n",
            "3\n",
            "24\n",
            "10 String\n",
            "Number 1\tThe Larch\n",
            "Number 2\tThe Horse Chestnut\n",
            "I am new to Python\n",
            "2\n",
            "Python with GenAI\n",
            "Enter your name: Guru\n",
            "Guru\n"
          ]
        }
      ],
      "source": [
        "print('Welcome to Python')\n",
        "print(1+2)\n",
        "a= 10\n",
        "b=14\n",
        "print(a+b)\n",
        "print(\"10\"+ ' '+\"String\")\n",
        "\n",
        "print(\"Number 1\\tThe Larch\")\n",
        "print(\"Number 2\\tThe Horse Chestnut\")\n",
        "\n",
        "print(\"\"\"I am new to Python\"\"\")\n",
        "print(4//2)\n",
        "print(\"Python with\", \"GenAI\")\n",
        "\n",
        "# Input function\n",
        "name = input(\"Enter your name: \")\n",
        "print(name)"
      ]
    }
  ]
}